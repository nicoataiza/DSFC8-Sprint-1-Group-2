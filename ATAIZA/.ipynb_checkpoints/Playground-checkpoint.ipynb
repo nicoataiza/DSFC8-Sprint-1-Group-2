{
 "cells": [
  {
   "cell_type": "code",
   "execution_count": 1,
   "id": "8517aca1-d6b7-4917-854f-4f3ecad24209",
   "metadata": {},
   "outputs": [],
   "source": [
    "import pandas as pd\n",
    "import numpy as np\n",
    "import matplotlib.pyplot as plt\n",
    "import geopandas as gpd\n",
    "pd.set_option(\"max_columns\",500)"
   ]
  },
  {
   "cell_type": "code",
   "execution_count": 12,
   "id": "03c16b1c-5bb1-4c69-9497-0fa166bfc8dd",
   "metadata": {},
   "outputs": [],
   "source": [
    "#import geo data\n",
    "shapefile = gpd.read_file('data/Provinces/Provinces.shp')\n",
    "shapefile.head()"
   ]
  },
  {
   "cell_type": "code",
   "execution_count": null,
   "id": "ba868667-e0c3-4d67-a27e-25d8e273f641",
   "metadata": {},
   "outputs": [],
   "source": [
    "shapefile[\"x\"] = shapefile.geometry.centroid.x\n",
    "shapefile[\"y\"] = shapefile.geometry.centroid.y\n",
    "\n",
    "shapefile.head()"
   ]
  },
  {
   "cell_type": "code",
   "execution_count": null,
   "id": "881047aa-989c-4303-af58-ab91288ba930",
   "metadata": {},
   "outputs": [],
   "source": []
  }
 ],
 "metadata": {
  "kernelspec": {
   "display_name": "Python 3 (ipykernel)",
   "language": "python",
   "name": "python3"
  },
  "language_info": {
   "codemirror_mode": {
    "name": "ipython",
    "version": 3
   },
   "file_extension": ".py",
   "mimetype": "text/x-python",
   "name": "python",
   "nbconvert_exporter": "python",
   "pygments_lexer": "ipython3",
   "version": "3.9.7"
  }
 },
 "nbformat": 4,
 "nbformat_minor": 5
}
