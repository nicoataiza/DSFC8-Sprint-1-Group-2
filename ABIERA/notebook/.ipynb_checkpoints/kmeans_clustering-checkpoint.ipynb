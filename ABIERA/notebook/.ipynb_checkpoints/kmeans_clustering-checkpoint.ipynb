{
 "cells": [
  {
   "cell_type": "code",
   "execution_count": 104,
   "metadata": {
    "id": "nLeSyVYwrhyK",
    "scrolled": false
   },
   "outputs": [],
   "source": [
    "import pandas as pd\n",
    "\n",
    "df = pd.read_csv('../data/2019-candidate-campaigns.csv', index_col=0)"
   ]
  },
  {
   "cell_type": "code",
   "execution_count": 105,
   "metadata": {
    "colab": {
     "base_uri": "https://localhost:8080/",
     "height": 425
    },
    "id": "DKMO9WuerhyP",
    "outputId": "515606af-854c-4ccd-89e0-36807ab0c82e",
    "scrolled": false
   },
   "outputs": [
    {
     "data": {
      "text/html": [
       "<div>\n",
       "<style scoped>\n",
       "    .dataframe tbody tr th:only-of-type {\n",
       "        vertical-align: middle;\n",
       "    }\n",
       "\n",
       "    .dataframe tbody tr th {\n",
       "        vertical-align: top;\n",
       "    }\n",
       "\n",
       "    .dataframe thead th {\n",
       "        text-align: right;\n",
       "    }\n",
       "</style>\n",
       "<table border=\"1\" class=\"dataframe\">\n",
       "  <thead>\n",
       "    <tr style=\"text-align: right;\">\n",
       "      <th></th>\n",
       "      <th>Candidate</th>\n",
       "      <th>Coalition</th>\n",
       "      <th>Party</th>\n",
       "      <th>Twitter - Number of Mentions</th>\n",
       "      <th>Twitter - Number of Users</th>\n",
       "      <th>Twitter- Total Favorites</th>\n",
       "      <th>Twitter - Total Retweets</th>\n",
       "      <th>Twitter - Total Replies</th>\n",
       "      <th>Twitter - Percent News</th>\n",
       "      <th>Twitter - Percent Non-news</th>\n",
       "      <th>Facebook - Number of Candidate Posts</th>\n",
       "      <th>Facebook - Total Comments</th>\n",
       "      <th>Facebook - Total Shares</th>\n",
       "      <th>Facebook - Total Reactions</th>\n",
       "      <th>Political Party</th>\n",
       "      <th>Win</th>\n",
       "      <th>Cash Contributions Received from Other Sources</th>\n",
       "      <th>In-Kind Contributions Received from Other Sources</th>\n",
       "      <th>Cash Contributions Received from Political Party</th>\n",
       "      <th>In-Kind Contributions Received from Political Party</th>\n",
       "      <th>Total Contributions Received</th>\n",
       "      <th>Expenditures Paid Out of Personal Funds</th>\n",
       "      <th>Expenditures Paid Out of Cash Contributions</th>\n",
       "      <th>Expenditures Incurred Using In-Kind Contribution</th>\n",
       "      <th>Total Expenditures Incurred</th>\n",
       "      <th>Difference (Contribution less Expenditure)</th>\n",
       "      <th>Unpaid Obligation / Balance</th>\n",
       "      <th>Travel Expenses</th>\n",
       "      <th>Compensation of campaigners, etc.</th>\n",
       "      <th>Communications</th>\n",
       "      <th>Stationery, Printing, and Distribution</th>\n",
       "      <th>Employment of Poll Watchers</th>\n",
       "      <th>Rent, Maintenance, etc.</th>\n",
       "      <th>Political Meetings and Rallies</th>\n",
       "      <th>Pol Ads</th>\n",
       "      <th>Total SLE</th>\n",
       "      <th>Employment of Counsel</th>\n",
       "      <th>Copying and Classifying List of Voters</th>\n",
       "      <th>Printing of Sample Ballots</th>\n",
       "      <th>Total Expenditures</th>\n",
       "      <th>Difference Total in SCE minus Total SLE</th>\n",
       "    </tr>\n",
       "    <tr>\n",
       "      <th>Candidate Number</th>\n",
       "      <th></th>\n",
       "      <th></th>\n",
       "      <th></th>\n",
       "      <th></th>\n",
       "      <th></th>\n",
       "      <th></th>\n",
       "      <th></th>\n",
       "      <th></th>\n",
       "      <th></th>\n",
       "      <th></th>\n",
       "      <th></th>\n",
       "      <th></th>\n",
       "      <th></th>\n",
       "      <th></th>\n",
       "      <th></th>\n",
       "      <th></th>\n",
       "      <th></th>\n",
       "      <th></th>\n",
       "      <th></th>\n",
       "      <th></th>\n",
       "      <th></th>\n",
       "      <th></th>\n",
       "      <th></th>\n",
       "      <th></th>\n",
       "      <th></th>\n",
       "      <th></th>\n",
       "      <th></th>\n",
       "      <th></th>\n",
       "      <th></th>\n",
       "      <th></th>\n",
       "      <th></th>\n",
       "      <th></th>\n",
       "      <th></th>\n",
       "      <th></th>\n",
       "      <th></th>\n",
       "      <th></th>\n",
       "      <th></th>\n",
       "      <th></th>\n",
       "      <th></th>\n",
       "      <th></th>\n",
       "      <th></th>\n",
       "    </tr>\n",
       "  </thead>\n",
       "  <tbody>\n",
       "    <tr>\n",
       "      <th>1</th>\n",
       "      <td>Abner Afuang</td>\n",
       "      <td>WPP</td>\n",
       "      <td>WPP</td>\n",
       "      <td>199.0</td>\n",
       "      <td>112.0</td>\n",
       "      <td>656.0</td>\n",
       "      <td>200.0</td>\n",
       "      <td>105.0</td>\n",
       "      <td>0.11</td>\n",
       "      <td>0.89</td>\n",
       "      <td>77.0</td>\n",
       "      <td>436.0</td>\n",
       "      <td>15473.0</td>\n",
       "      <td>76567.0</td>\n",
       "      <td>NaN</td>\n",
       "      <td>NaN</td>\n",
       "      <td>NaN</td>\n",
       "      <td>NaN</td>\n",
       "      <td>NaN</td>\n",
       "      <td>NaN</td>\n",
       "      <td>NaN</td>\n",
       "      <td>NaN</td>\n",
       "      <td>NaN</td>\n",
       "      <td>NaN</td>\n",
       "      <td>NaN</td>\n",
       "      <td>NaN</td>\n",
       "      <td>NaN</td>\n",
       "      <td>NaN</td>\n",
       "      <td>NaN</td>\n",
       "      <td>NaN</td>\n",
       "      <td>NaN</td>\n",
       "      <td>NaN</td>\n",
       "      <td>NaN</td>\n",
       "      <td>NaN</td>\n",
       "      <td>NaN</td>\n",
       "      <td>NaN</td>\n",
       "      <td>NaN</td>\n",
       "      <td>NaN</td>\n",
       "      <td>NaN</td>\n",
       "      <td>NaN</td>\n",
       "      <td>NaN</td>\n",
       "    </tr>\n",
       "    <tr>\n",
       "      <th>2</th>\n",
       "      <td>Agnes Escudero</td>\n",
       "      <td>KKK</td>\n",
       "      <td>Independent</td>\n",
       "      <td>256.0</td>\n",
       "      <td>186.0</td>\n",
       "      <td>3294.0</td>\n",
       "      <td>612.0</td>\n",
       "      <td>332.0</td>\n",
       "      <td>0.09</td>\n",
       "      <td>0.91</td>\n",
       "      <td>28.0</td>\n",
       "      <td>108.0</td>\n",
       "      <td>3310.0</td>\n",
       "      <td>29973.0</td>\n",
       "      <td>NaN</td>\n",
       "      <td>NaN</td>\n",
       "      <td>NaN</td>\n",
       "      <td>NaN</td>\n",
       "      <td>NaN</td>\n",
       "      <td>NaN</td>\n",
       "      <td>NaN</td>\n",
       "      <td>NaN</td>\n",
       "      <td>NaN</td>\n",
       "      <td>NaN</td>\n",
       "      <td>NaN</td>\n",
       "      <td>NaN</td>\n",
       "      <td>NaN</td>\n",
       "      <td>NaN</td>\n",
       "      <td>NaN</td>\n",
       "      <td>NaN</td>\n",
       "      <td>NaN</td>\n",
       "      <td>NaN</td>\n",
       "      <td>NaN</td>\n",
       "      <td>NaN</td>\n",
       "      <td>NaN</td>\n",
       "      <td>NaN</td>\n",
       "      <td>NaN</td>\n",
       "      <td>NaN</td>\n",
       "      <td>NaN</td>\n",
       "      <td>NaN</td>\n",
       "      <td>NaN</td>\n",
       "    </tr>\n",
       "    <tr>\n",
       "      <th>3</th>\n",
       "      <td>Allan Montaño</td>\n",
       "      <td>Labor Win</td>\n",
       "      <td>Independent</td>\n",
       "      <td>182.0</td>\n",
       "      <td>80.0</td>\n",
       "      <td>1304.0</td>\n",
       "      <td>304.0</td>\n",
       "      <td>109.0</td>\n",
       "      <td>0.23</td>\n",
       "      <td>0.77</td>\n",
       "      <td>0.0</td>\n",
       "      <td>0.0</td>\n",
       "      <td>0.0</td>\n",
       "      <td>0.0</td>\n",
       "      <td>Independent</td>\n",
       "      <td>0.0</td>\n",
       "      <td>0.0</td>\n",
       "      <td>0.0</td>\n",
       "      <td>0.0</td>\n",
       "      <td>0.0</td>\n",
       "      <td>0.0</td>\n",
       "      <td>129195.00</td>\n",
       "      <td>0.000000e+00</td>\n",
       "      <td>0.0</td>\n",
       "      <td>1.291950e+05</td>\n",
       "      <td>-129195.00</td>\n",
       "      <td>0.0</td>\n",
       "      <td>0.00</td>\n",
       "      <td>0.0</td>\n",
       "      <td>129195.00</td>\n",
       "      <td>0.00</td>\n",
       "      <td>0.0</td>\n",
       "      <td>0.0</td>\n",
       "      <td>0.00</td>\n",
       "      <td>0.000000e+00</td>\n",
       "      <td>1.291950e+05</td>\n",
       "      <td>0.0</td>\n",
       "      <td>0.0</td>\n",
       "      <td>0.0</td>\n",
       "      <td>1.291950e+05</td>\n",
       "      <td>0.0</td>\n",
       "    </tr>\n",
       "    <tr>\n",
       "      <th>4</th>\n",
       "      <td>Balde Baldevarona</td>\n",
       "      <td>NaN</td>\n",
       "      <td>Independent</td>\n",
       "      <td>61.0</td>\n",
       "      <td>20.0</td>\n",
       "      <td>162.0</td>\n",
       "      <td>27.0</td>\n",
       "      <td>52.0</td>\n",
       "      <td>0.51</td>\n",
       "      <td>0.49</td>\n",
       "      <td>0.0</td>\n",
       "      <td>0.0</td>\n",
       "      <td>0.0</td>\n",
       "      <td>0.0</td>\n",
       "      <td>Filipino Family Party</td>\n",
       "      <td>0.0</td>\n",
       "      <td>0.0</td>\n",
       "      <td>0.0</td>\n",
       "      <td>0.0</td>\n",
       "      <td>0.0</td>\n",
       "      <td>0.0</td>\n",
       "      <td>520398.88</td>\n",
       "      <td>0.000000e+00</td>\n",
       "      <td>0.0</td>\n",
       "      <td>5.203989e+05</td>\n",
       "      <td>-520398.88</td>\n",
       "      <td>0.0</td>\n",
       "      <td>121101.82</td>\n",
       "      <td>0.0</td>\n",
       "      <td>14754.71</td>\n",
       "      <td>214073.80</td>\n",
       "      <td>0.0</td>\n",
       "      <td>0.0</td>\n",
       "      <td>170468.55</td>\n",
       "      <td>0.000000e+00</td>\n",
       "      <td>5.203989e+05</td>\n",
       "      <td>0.0</td>\n",
       "      <td>0.0</td>\n",
       "      <td>0.0</td>\n",
       "      <td>5.203989e+05</td>\n",
       "      <td>0.0</td>\n",
       "    </tr>\n",
       "    <tr>\n",
       "      <th>5</th>\n",
       "      <td>Bam Aquino</td>\n",
       "      <td>Otso Diretso</td>\n",
       "      <td>Liberal</td>\n",
       "      <td>11690.0</td>\n",
       "      <td>5395.0</td>\n",
       "      <td>160642.0</td>\n",
       "      <td>38127.0</td>\n",
       "      <td>9104.0</td>\n",
       "      <td>0.03</td>\n",
       "      <td>0.97</td>\n",
       "      <td>62.0</td>\n",
       "      <td>4125.0</td>\n",
       "      <td>26970930.0</td>\n",
       "      <td>4577542.0</td>\n",
       "      <td>Independent</td>\n",
       "      <td>0.0</td>\n",
       "      <td>126350000.0</td>\n",
       "      <td>300000.0</td>\n",
       "      <td>0.0</td>\n",
       "      <td>0.0</td>\n",
       "      <td>126650000.0</td>\n",
       "      <td>0.00</td>\n",
       "      <td>1.256272e+08</td>\n",
       "      <td>300000.0</td>\n",
       "      <td>1.259272e+08</td>\n",
       "      <td>722827.41</td>\n",
       "      <td>0.0</td>\n",
       "      <td>2378203.01</td>\n",
       "      <td>392000.0</td>\n",
       "      <td>71301.08</td>\n",
       "      <td>2861646.45</td>\n",
       "      <td>0.0</td>\n",
       "      <td>102347.1</td>\n",
       "      <td>0.00</td>\n",
       "      <td>1.201217e+08</td>\n",
       "      <td>1.259272e+08</td>\n",
       "      <td>0.0</td>\n",
       "      <td>0.0</td>\n",
       "      <td>0.0</td>\n",
       "      <td>1.259272e+08</td>\n",
       "      <td>0.0</td>\n",
       "    </tr>\n",
       "  </tbody>\n",
       "</table>\n",
       "</div>"
      ],
      "text/plain": [
       "                          Candidate  ... Difference Total in SCE minus Total SLE\n",
       "Candidate Number                     ...                                        \n",
       "1                      Abner Afuang  ...                                     NaN\n",
       "2                    Agnes Escudero  ...                                     NaN\n",
       "3                     Allan Montaño  ...                                     0.0\n",
       "4                 Balde Baldevarona  ...                                     0.0\n",
       "5                        Bam Aquino  ...                                     0.0\n",
       "\n",
       "[5 rows x 41 columns]"
      ]
     },
     "execution_count": 105,
     "metadata": {},
     "output_type": "execute_result"
    }
   ],
   "source": [
    "df.head()"
   ]
  },
  {
   "cell_type": "code",
   "execution_count": 106,
   "metadata": {
    "colab": {
     "base_uri": "https://localhost:8080/"
    },
    "id": "xM-cT8B1rhyQ",
    "outputId": "0de803c2-2de0-4916-9db3-ffeee1959041"
   },
   "outputs": [
    {
     "data": {
      "text/plain": [
       "Index(['Candidate', 'Coalition', 'Party', 'Twitter - Number of Mentions',\n",
       "       'Twitter - Number of Users', 'Twitter- Total Favorites',\n",
       "       'Twitter - Total Retweets', 'Twitter - Total Replies',\n",
       "       'Twitter - Percent News', 'Twitter - Percent Non-news',\n",
       "       'Facebook - Number of Candidate Posts', 'Facebook - Total Comments',\n",
       "       'Facebook - Total Shares', 'Facebook - Total Reactions',\n",
       "       'Political Party', 'Win',\n",
       "       'Cash Contributions Received from Other Sources',\n",
       "       'In-Kind Contributions Received from Other Sources',\n",
       "       'Cash Contributions Received from Political Party',\n",
       "       'In-Kind Contributions Received from Political Party',\n",
       "       'Total Contributions Received',\n",
       "       'Expenditures Paid Out of Personal Funds',\n",
       "       'Expenditures Paid Out of Cash Contributions',\n",
       "       'Expenditures Incurred Using In-Kind Contribution',\n",
       "       'Total Expenditures Incurred',\n",
       "       'Difference (Contribution less Expenditure)',\n",
       "       'Unpaid Obligation / Balance', 'Travel Expenses',\n",
       "       'Compensation of campaigners, etc.', 'Communications',\n",
       "       'Stationery, Printing, and Distribution', 'Employment of Poll Watchers',\n",
       "       'Rent, Maintenance, etc.', 'Political Meetings and Rallies', 'Pol Ads',\n",
       "       'Total SLE', 'Employment of Counsel',\n",
       "       'Copying and Classifying List of Voters', 'Printing of Sample Ballots',\n",
       "       'Total Expenditures', 'Difference Total in SCE minus Total SLE'],\n",
       "      dtype='object')"
      ]
     },
     "execution_count": 106,
     "metadata": {},
     "output_type": "execute_result"
    }
   ],
   "source": [
    "df.columns"
   ]
  },
  {
   "cell_type": "code",
   "execution_count": 107,
   "metadata": {
    "colab": {
     "base_uri": "https://localhost:8080/"
    },
    "id": "AXo1hBEQrhyR",
    "outputId": "551bb043-0d88-40c9-860a-9e5907b98411"
   },
   "outputs": [
    {
     "name": "stdout",
     "output_type": "stream",
     "text": [
      "<class 'pandas.core.frame.DataFrame'>\n",
      "Int64Index: 62 entries, 1 to 61\n",
      "Data columns (total 41 columns):\n",
      " #   Column                                               Non-Null Count  Dtype  \n",
      "---  ------                                               --------------  -----  \n",
      " 0   Candidate                                            62 non-null     object \n",
      " 1   Coalition                                            49 non-null     object \n",
      " 2   Party                                                62 non-null     object \n",
      " 3   Twitter - Number of Mentions                         62 non-null     float64\n",
      " 4   Twitter - Number of Users                            62 non-null     float64\n",
      " 5   Twitter- Total Favorites                             62 non-null     float64\n",
      " 6   Twitter - Total Retweets                             62 non-null     float64\n",
      " 7   Twitter - Total Replies                              62 non-null     float64\n",
      " 8   Twitter - Percent News                               62 non-null     float64\n",
      " 9   Twitter - Percent Non-news                           62 non-null     float64\n",
      " 10  Facebook - Number of Candidate Posts                 62 non-null     float64\n",
      " 11  Facebook - Total Comments                            62 non-null     float64\n",
      " 12  Facebook - Total Shares                              62 non-null     float64\n",
      " 13  Facebook - Total Reactions                           62 non-null     float64\n",
      " 14  Political Party                                      43 non-null     object \n",
      " 15  Win                                                  43 non-null     float64\n",
      " 16  Cash Contributions Received from Other Sources       43 non-null     float64\n",
      " 17  In-Kind Contributions Received from Other Sources    43 non-null     float64\n",
      " 18  Cash Contributions Received from Political Party     43 non-null     float64\n",
      " 19  In-Kind Contributions Received from Political Party  43 non-null     float64\n",
      " 20  Total Contributions Received                         43 non-null     float64\n",
      " 21  Expenditures Paid Out of Personal Funds              43 non-null     float64\n",
      " 22  Expenditures Paid Out of Cash Contributions          43 non-null     float64\n",
      " 23  Expenditures Incurred Using In-Kind Contribution     43 non-null     float64\n",
      " 24  Total Expenditures Incurred                          43 non-null     float64\n",
      " 25  Difference (Contribution less Expenditure)           43 non-null     float64\n",
      " 26  Unpaid Obligation / Balance                          43 non-null     float64\n",
      " 27  Travel Expenses                                      43 non-null     float64\n",
      " 28  Compensation of campaigners, etc.                    43 non-null     float64\n",
      " 29  Communications                                       43 non-null     float64\n",
      " 30  Stationery, Printing, and Distribution               43 non-null     float64\n",
      " 31  Employment of Poll Watchers                          43 non-null     float64\n",
      " 32  Rent, Maintenance, etc.                              43 non-null     float64\n",
      " 33  Political Meetings and Rallies                       43 non-null     float64\n",
      " 34  Pol Ads                                              43 non-null     float64\n",
      " 35  Total SLE                                            43 non-null     float64\n",
      " 36  Employment of Counsel                                43 non-null     float64\n",
      " 37  Copying and Classifying List of Voters               43 non-null     float64\n",
      " 38  Printing of Sample Ballots                           43 non-null     float64\n",
      " 39  Total Expenditures                                   43 non-null     float64\n",
      " 40  Difference Total in SCE minus Total SLE              43 non-null     float64\n",
      "dtypes: float64(37), object(4)\n",
      "memory usage: 20.3+ KB\n"
     ]
    }
   ],
   "source": [
    "df.info()"
   ]
  },
  {
   "cell_type": "code",
   "execution_count": 108,
   "metadata": {
    "id": "un3l_ccKrhyR"
   },
   "outputs": [],
   "source": [
    "df = df.fillna(0)"
   ]
  },
  {
   "cell_type": "markdown",
   "metadata": {
    "id": "GsMabodMrhyS"
   },
   "source": [
    "__Step 2__: Select the columns you want to use for clustering and do feature scaling using `Normalizer` from `sklearn.preprocessing`."
   ]
  },
  {
   "cell_type": "code",
   "execution_count": 109,
   "metadata": {
    "id": "Embsw9fIrhyc",
    "scrolled": false
   },
   "outputs": [],
   "source": [
    "from sklearn.preprocessing import Normalizer\n",
    "\n",
    "# Select features for clustering\n",
    "feature_cols = ['Travel Expenses',\n",
    "       'Compensation of campaigners, etc.', 'Communications',\n",
    "       'Stationery, Printing, and Distribution', 'Employment of Poll Watchers',\n",
    "       'Rent, Maintenance, etc.', 'Political Meetings and Rallies', 'Pol Ads']\n",
    "              \n",
    "X = df[feature_cols]\n",
    "\n",
    "# Feature scaling\n",
    "X=Normalizer().fit_transform(X.values)"
   ]
  },
  {
   "cell_type": "markdown",
   "metadata": {
    "id": "9XiAmjXwrhyd"
   },
   "source": [
    "__Step 3:__ Train initial KMeans model with `n_clusters` = 5, and print out the `inertia` and `silhouette_score`"
   ]
  },
  {
   "cell_type": "code",
   "execution_count": 110,
   "metadata": {
    "id": "kLLIrVDJrhyd",
    "scrolled": false
   },
   "outputs": [],
   "source": [
    "from sklearn.cluster import KMeans\n",
    "\n",
    "kmeans = KMeans(n_clusters=3)\n",
    "kmeans.fit(X)\n",
    "y_kmeans = kmeans.predict(X)"
   ]
  },
  {
   "cell_type": "code",
   "execution_count": 111,
   "metadata": {
    "colab": {
     "base_uri": "https://localhost:8080/"
    },
    "id": "EcIR3ckGrhyh",
    "outputId": "a52b9eee-07d2-41e0-d186-c39f41cdcfec",
    "scrolled": false
   },
   "outputs": [
    {
     "name": "stdout",
     "output_type": "stream",
     "text": [
      "Inertia: 8.14356295304949\n"
     ]
    }
   ],
   "source": [
    "print(\"Inertia: \" + str(kmeans.inertia_))"
   ]
  },
  {
   "cell_type": "code",
   "execution_count": 112,
   "metadata": {
    "colab": {
     "base_uri": "https://localhost:8080/"
    },
    "id": "7R9IrZSErhyi",
    "outputId": "b1a689e6-6d78-4ffa-a27e-5ff7a81f5a37",
    "scrolled": false
   },
   "outputs": [
    {
     "name": "stdout",
     "output_type": "stream",
     "text": [
      "Silhouette: 0.6786226285034105\n"
     ]
    }
   ],
   "source": [
    "from sklearn.metrics import silhouette_score\n",
    "\n",
    "s_score = silhouette_score(X, y_kmeans)\n",
    "print(\"Silhouette: \" + str(s_score))"
   ]
  },
  {
   "cell_type": "markdown",
   "metadata": {
    "id": "YTcWDNX5rhyi"
   },
   "source": [
    "__Step 4:__ Tune the model by trying different values for `n_clusters` between 3-20 and plot the results to determine the best parameter."
   ]
  },
  {
   "cell_type": "code",
   "execution_count": 113,
   "metadata": {
    "id": "kQQlCRcZrhyi",
    "scrolled": false
   },
   "outputs": [],
   "source": [
    "inertia = []\n",
    "sil = []\n",
    "\n",
    "# changing the number of clusters \n",
    "for k in range(2,10):\n",
    "    \n",
    "    km = KMeans(n_clusters=k, random_state=1)\n",
    "    km.fit(X)\n",
    "    y_pred = km.predict(X)\n",
    "    \n",
    "    inertia.append((k, km.inertia_))\n",
    "    sil.append((k, silhouette_score(X, y_pred)))"
   ]
  },
  {
   "cell_type": "code",
   "execution_count": 114,
   "metadata": {
    "colab": {
     "base_uri": "https://localhost:8080/",
     "height": 312
    },
    "id": "LgFkI0xkrhyi",
    "outputId": "4ea2b739-c907-481c-bbee-a6dcf9fe3e78",
    "scrolled": false
   },
   "outputs": [
    {
     "data": {
      "text/plain": [
       "Text(0.5, 1.0, 'Silhouetter Score Curve')"
      ]
     },
     "execution_count": 114,
     "metadata": {},
     "output_type": "execute_result"
    },
    {
     "data": {
      "image/png": "[encoded data removed]",
      "text/plain": [
       "<Figure size 864x288 with 2 Axes>"
      ]
     },
     "metadata": {
      "needs_background": "light"
     },
     "output_type": "display_data"
    }
   ],
   "source": [
    "fig, ax = plt.subplots(1,2, figsize=(12,4))\n",
    "\n",
    "# Plotting Elbow Curve\n",
    "x_iner = [x[0] for x in inertia]\n",
    "y_iner  = [x[1] for x in inertia]\n",
    "ax[0].plot(x_iner, y_iner)\n",
    "ax[0].set_xlabel('Number of Clusters')\n",
    "ax[0].set_ylabel('Intertia')\n",
    "ax[0].set_title(\"Inertia Score - AKA. 'Elbow Curve'\")\n",
    "\n",
    "# Plotting Silhouetter Score\n",
    "x_sil = [x[0] for x in sil]\n",
    "y_sil  = [x[1] for x in sil]\n",
    "ax[1].plot(x_sil, y_sil)\n",
    "ax[1].set_xlabel('Number of Clusters')\n",
    "ax[1].set_ylabel('Silhouetter Score')\n",
    "ax[1].set_title('Silhouetter Score Curve')"
   ]
  },
  {
   "cell_type": "markdown",
   "metadata": {
    "id": "IJ6jE6pvrhyj"
   },
   "source": [
    "__Step 5:__ Apply the optimal number of clusters and append cluster labels to your original df."
   ]
  },
  {
   "cell_type": "code",
   "execution_count": 115,
   "metadata": {
    "id": "o49SODgfrhyj",
    "scrolled": false
   },
   "outputs": [],
   "source": [
    "kmeans = KMeans(n_clusters=3)\n",
    "kmeans.fit(X)\n",
    "labels = kmeans.predict(X)\n",
    "feature_cols = ['Travel Expenses',\n",
    "       'Compensation of campaigners, etc.', 'Communications',\n",
    "       'Stationery, Printing, and Distribution', 'Employment of Poll Watchers',\n",
    "       'Rent, Maintenance, etc.', 'Political Meetings and Rallies', 'Pol Ads','Win']\n",
    "df = df[feature_cols]"
   ]
  },
  {
   "cell_type": "code",
   "execution_count": 116,
   "metadata": {
    "colab": {
     "base_uri": "https://localhost:8080/",
     "height": 303
    },
    "id": "QJnlnJg8rhyj",
    "outputId": "a921567a-eee2-4d37-b5ab-acab78debf35"
   },
   "outputs": [
    {
     "data": {
      "text/html": [
       "<div>\n",
       "<style scoped>\n",
       "    .dataframe tbody tr th:only-of-type {\n",
       "        vertical-align: middle;\n",
       "    }\n",
       "\n",
       "    .dataframe tbody tr th {\n",
       "        vertical-align: top;\n",
       "    }\n",
       "\n",
       "    .dataframe thead th {\n",
       "        text-align: right;\n",
       "    }\n",
       "</style>\n",
       "<table border=\"1\" class=\"dataframe\">\n",
       "  <thead>\n",
       "    <tr style=\"text-align: right;\">\n",
       "      <th></th>\n",
       "      <th>Travel Expenses</th>\n",
       "      <th>Compensation of campaigners, etc.</th>\n",
       "      <th>Communications</th>\n",
       "      <th>Stationery, Printing, and Distribution</th>\n",
       "      <th>Employment of Poll Watchers</th>\n",
       "      <th>Rent, Maintenance, etc.</th>\n",
       "      <th>Political Meetings and Rallies</th>\n",
       "      <th>Pol Ads</th>\n",
       "      <th>Win</th>\n",
       "    </tr>\n",
       "    <tr>\n",
       "      <th>Candidate Number</th>\n",
       "      <th></th>\n",
       "      <th></th>\n",
       "      <th></th>\n",
       "      <th></th>\n",
       "      <th></th>\n",
       "      <th></th>\n",
       "      <th></th>\n",
       "      <th></th>\n",
       "      <th></th>\n",
       "    </tr>\n",
       "  </thead>\n",
       "  <tbody>\n",
       "    <tr>\n",
       "      <th>1</th>\n",
       "      <td>0.00</td>\n",
       "      <td>0.0</td>\n",
       "      <td>0.00</td>\n",
       "      <td>0.00</td>\n",
       "      <td>0.0</td>\n",
       "      <td>0.0</td>\n",
       "      <td>0.00</td>\n",
       "      <td>0.000000e+00</td>\n",
       "      <td>0.0</td>\n",
       "    </tr>\n",
       "    <tr>\n",
       "      <th>2</th>\n",
       "      <td>0.00</td>\n",
       "      <td>0.0</td>\n",
       "      <td>0.00</td>\n",
       "      <td>0.00</td>\n",
       "      <td>0.0</td>\n",
       "      <td>0.0</td>\n",
       "      <td>0.00</td>\n",
       "      <td>0.000000e+00</td>\n",
       "      <td>0.0</td>\n",
       "    </tr>\n",
       "    <tr>\n",
       "      <th>3</th>\n",
       "      <td>0.00</td>\n",
       "      <td>0.0</td>\n",
       "      <td>129195.00</td>\n",
       "      <td>0.00</td>\n",
       "      <td>0.0</td>\n",
       "      <td>0.0</td>\n",
       "      <td>0.00</td>\n",
       "      <td>0.000000e+00</td>\n",
       "      <td>0.0</td>\n",
       "    </tr>\n",
       "    <tr>\n",
       "      <th>4</th>\n",
       "      <td>121101.82</td>\n",
       "      <td>0.0</td>\n",
       "      <td>14754.71</td>\n",
       "      <td>214073.80</td>\n",
       "      <td>0.0</td>\n",
       "      <td>0.0</td>\n",
       "      <td>170468.55</td>\n",
       "      <td>0.000000e+00</td>\n",
       "      <td>0.0</td>\n",
       "    </tr>\n",
       "    <tr>\n",
       "      <th>5</th>\n",
       "      <td>2378203.01</td>\n",
       "      <td>392000.0</td>\n",
       "      <td>71301.08</td>\n",
       "      <td>2861646.45</td>\n",
       "      <td>0.0</td>\n",
       "      <td>102347.1</td>\n",
       "      <td>0.00</td>\n",
       "      <td>1.201217e+08</td>\n",
       "      <td>0.0</td>\n",
       "    </tr>\n",
       "  </tbody>\n",
       "</table>\n",
       "</div>"
      ],
      "text/plain": [
       "                  Travel Expenses  ...  Win\n",
       "Candidate Number                   ...     \n",
       "1                            0.00  ...  0.0\n",
       "2                            0.00  ...  0.0\n",
       "3                            0.00  ...  0.0\n",
       "4                       121101.82  ...  0.0\n",
       "5                      2378203.01  ...  0.0\n",
       "\n",
       "[5 rows x 9 columns]"
      ]
     },
     "execution_count": 116,
     "metadata": {},
     "output_type": "execute_result"
    }
   ],
   "source": [
    "df.head()"
   ]
  },
  {
   "cell_type": "code",
   "execution_count": 117,
   "metadata": {
    "colab": {
     "base_uri": "https://localhost:8080/",
     "height": 459
    },
    "id": "unNEjYhrrhyj",
    "outputId": "f0e595b3-4a84-482e-da8b-3bc6a82f98ca"
   },
   "outputs": [
    {
     "name": "stderr",
     "output_type": "stream",
     "text": [
      "/usr/local/lib/python3.7/dist-packages/ipykernel_launcher.py:2: SettingWithCopyWarning:\n",
      "\n",
      "\n",
      "A value is trying to be set on a copy of a slice from a DataFrame.\n",
      "Try using .loc[row_indexer,col_indexer] = value instead\n",
      "\n",
      "See the caveats in the documentation: https://pandas.pydata.org/pandas-docs/stable/user_guide/indexing.html#returning-a-view-versus-a-copy\n",
      "\n"
     ]
    },
    {
     "data": {
      "text/html": [
       "<div>\n",
       "<style scoped>\n",
       "    .dataframe tbody tr th:only-of-type {\n",
       "        vertical-align: middle;\n",
       "    }\n",
       "\n",
       "    .dataframe tbody tr th {\n",
       "        vertical-align: top;\n",
       "    }\n",
       "\n",
       "    .dataframe thead th {\n",
       "        text-align: right;\n",
       "    }\n",
       "</style>\n",
       "<table border=\"1\" class=\"dataframe\">\n",
       "  <thead>\n",
       "    <tr style=\"text-align: right;\">\n",
       "      <th></th>\n",
       "      <th>Travel Expenses</th>\n",
       "      <th>Compensation of campaigners, etc.</th>\n",
       "      <th>Communications</th>\n",
       "      <th>Stationery, Printing, and Distribution</th>\n",
       "      <th>Employment of Poll Watchers</th>\n",
       "      <th>Rent, Maintenance, etc.</th>\n",
       "      <th>Political Meetings and Rallies</th>\n",
       "      <th>Pol Ads</th>\n",
       "      <th>Win</th>\n",
       "    </tr>\n",
       "    <tr>\n",
       "      <th>Cluster Labels</th>\n",
       "      <th></th>\n",
       "      <th></th>\n",
       "      <th></th>\n",
       "      <th></th>\n",
       "      <th></th>\n",
       "      <th></th>\n",
       "      <th></th>\n",
       "      <th></th>\n",
       "      <th></th>\n",
       "    </tr>\n",
       "  </thead>\n",
       "  <tbody>\n",
       "    <tr>\n",
       "      <th>1</th>\n",
       "      <td>0.00</td>\n",
       "      <td>0.0</td>\n",
       "      <td>0.00</td>\n",
       "      <td>0.00</td>\n",
       "      <td>0.0</td>\n",
       "      <td>0.0</td>\n",
       "      <td>0.00</td>\n",
       "      <td>0.000000e+00</td>\n",
       "      <td>0.0</td>\n",
       "    </tr>\n",
       "    <tr>\n",
       "      <th>1</th>\n",
       "      <td>0.00</td>\n",
       "      <td>0.0</td>\n",
       "      <td>0.00</td>\n",
       "      <td>0.00</td>\n",
       "      <td>0.0</td>\n",
       "      <td>0.0</td>\n",
       "      <td>0.00</td>\n",
       "      <td>0.000000e+00</td>\n",
       "      <td>0.0</td>\n",
       "    </tr>\n",
       "    <tr>\n",
       "      <th>1</th>\n",
       "      <td>0.00</td>\n",
       "      <td>0.0</td>\n",
       "      <td>129195.00</td>\n",
       "      <td>0.00</td>\n",
       "      <td>0.0</td>\n",
       "      <td>0.0</td>\n",
       "      <td>0.00</td>\n",
       "      <td>0.000000e+00</td>\n",
       "      <td>0.0</td>\n",
       "    </tr>\n",
       "    <tr>\n",
       "      <th>2</th>\n",
       "      <td>121101.82</td>\n",
       "      <td>0.0</td>\n",
       "      <td>14754.71</td>\n",
       "      <td>214073.80</td>\n",
       "      <td>0.0</td>\n",
       "      <td>0.0</td>\n",
       "      <td>170468.55</td>\n",
       "      <td>0.000000e+00</td>\n",
       "      <td>0.0</td>\n",
       "    </tr>\n",
       "    <tr>\n",
       "      <th>0</th>\n",
       "      <td>2378203.01</td>\n",
       "      <td>392000.0</td>\n",
       "      <td>71301.08</td>\n",
       "      <td>2861646.45</td>\n",
       "      <td>0.0</td>\n",
       "      <td>102347.1</td>\n",
       "      <td>0.00</td>\n",
       "      <td>1.201217e+08</td>\n",
       "      <td>0.0</td>\n",
       "    </tr>\n",
       "  </tbody>\n",
       "</table>\n",
       "</div>"
      ],
      "text/plain": [
       "                Travel Expenses  ...  Win\n",
       "Cluster Labels                   ...     \n",
       "1                          0.00  ...  0.0\n",
       "1                          0.00  ...  0.0\n",
       "1                          0.00  ...  0.0\n",
       "2                     121101.82  ...  0.0\n",
       "0                    2378203.01  ...  0.0\n",
       "\n",
       "[5 rows x 9 columns]"
      ]
     },
     "execution_count": 117,
     "metadata": {},
     "output_type": "execute_result"
    }
   ],
   "source": [
    "#set cluster Labels as index\n",
    "df['Cluster Labels'] = labels\n",
    "#dropped Province Municipality\n",
    "\n",
    "df = df.set_index('Cluster Labels')\n",
    "df.head()"
   ]
  },
  {
   "cell_type": "code",
   "execution_count": 118,
   "metadata": {
    "colab": {
     "base_uri": "https://localhost:8080/",
     "height": 213
    },
    "id": "JMvtWS8Grhyj",
    "outputId": "61cc9625-05f6-4b9d-d81b-3d66a28c4b4f"
   },
   "outputs": [
    {
     "data": {
      "text/html": [
       "<div>\n",
       "<style scoped>\n",
       "    .dataframe tbody tr th:only-of-type {\n",
       "        vertical-align: middle;\n",
       "    }\n",
       "\n",
       "    .dataframe tbody tr th {\n",
       "        vertical-align: top;\n",
       "    }\n",
       "\n",
       "    .dataframe thead th {\n",
       "        text-align: right;\n",
       "    }\n",
       "</style>\n",
       "<table border=\"1\" class=\"dataframe\">\n",
       "  <thead>\n",
       "    <tr style=\"text-align: right;\">\n",
       "      <th></th>\n",
       "      <th>Cluster Labels</th>\n",
       "      <th>Travel Expenses</th>\n",
       "      <th>Compensation of campaigners, etc.</th>\n",
       "      <th>Communications</th>\n",
       "      <th>Stationery, Printing, and Distribution</th>\n",
       "      <th>Employment of Poll Watchers</th>\n",
       "      <th>Rent, Maintenance, etc.</th>\n",
       "      <th>Political Meetings and Rallies</th>\n",
       "      <th>Pol Ads</th>\n",
       "      <th>Win</th>\n",
       "    </tr>\n",
       "  </thead>\n",
       "  <tbody>\n",
       "    <tr>\n",
       "      <th>0</th>\n",
       "      <td>0</td>\n",
       "      <td>3.196223e+06</td>\n",
       "      <td>989522.167308</td>\n",
       "      <td>170770.016538</td>\n",
       "      <td>2.346493e+06</td>\n",
       "      <td>12661.538462</td>\n",
       "      <td>116231.193077</td>\n",
       "      <td>193115.815385</td>\n",
       "      <td>6.566762e+07</td>\n",
       "      <td>0.423077</td>\n",
       "    </tr>\n",
       "    <tr>\n",
       "      <th>1</th>\n",
       "      <td>1</td>\n",
       "      <td>1.831443e+04</td>\n",
       "      <td>63896.153846</td>\n",
       "      <td>5912.980769</td>\n",
       "      <td>5.607202e+03</td>\n",
       "      <td>24826.923077</td>\n",
       "      <td>32163.483846</td>\n",
       "      <td>3717.742308</td>\n",
       "      <td>1.106060e+03</td>\n",
       "      <td>0.038462</td>\n",
       "    </tr>\n",
       "    <tr>\n",
       "      <th>2</th>\n",
       "      <td>2</td>\n",
       "      <td>2.103780e+05</td>\n",
       "      <td>36918.820000</td>\n",
       "      <td>8932.822000</td>\n",
       "      <td>4.439646e+05</td>\n",
       "      <td>3000.000000</td>\n",
       "      <td>35717.377000</td>\n",
       "      <td>62029.225000</td>\n",
       "      <td>6.897090e+04</td>\n",
       "      <td>0.000000</td>\n",
       "    </tr>\n",
       "  </tbody>\n",
       "</table>\n",
       "</div>"
      ],
      "text/plain": [
       "   Cluster Labels  Travel Expenses  ...       Pol Ads       Win\n",
       "0               0     3.196223e+06  ...  6.566762e+07  0.423077\n",
       "1               1     1.831443e+04  ...  1.106060e+03  0.038462\n",
       "2               2     2.103780e+05  ...  6.897090e+04  0.000000\n",
       "\n",
       "[3 rows x 10 columns]"
      ]
     },
     "execution_count": 118,
     "metadata": {},
     "output_type": "execute_result"
    }
   ],
   "source": [
    "#from day 8 notebook\n",
    "df = df.groupby(\"Cluster Labels\").mean().reset_index()\n",
    "df.head()"
   ]
  },
  {
   "cell_type": "code",
   "execution_count": 121,
   "metadata": {
    "id": "6w91-5EpzVv5"
   },
   "outputs": [],
   "source": [
    "df[\"Total\"] = df[\"Travel Expenses\"] + df[\"Compensation of campaigners, etc.\"]+df[\"Communications\"]+df[\"Stationery, Printing, and Distribution\"]+df[\"Employment of Poll Watchers\"]+df[\"Rent, Maintenance, etc.\"]+df[\"Political Meetings and Rallies\"]+df[\"Pol Ads\"]"
   ]
  },
  {
   "cell_type": "code",
   "execution_count": 122,
   "metadata": {
    "id": "WrhyC26Azz-K"
   },
   "outputs": [],
   "source": [
    "df = df[[\"Cluster Labels\",\"Total\",\"Win\"]]"
   ]
  },
  {
   "cell_type": "code",
   "execution_count": 123,
   "metadata": {
    "colab": {
     "base_uri": "https://localhost:8080/",
     "height": 142
    },
    "id": "rH2th4ZKz6UZ",
    "outputId": "368a466c-72fd-4308-e7cf-e2682be2ae4c"
   },
   "outputs": [
    {
     "data": {
      "text/html": [
       "<div>\n",
       "<style scoped>\n",
       "    .dataframe tbody tr th:only-of-type {\n",
       "        vertical-align: middle;\n",
       "    }\n",
       "\n",
       "    .dataframe tbody tr th {\n",
       "        vertical-align: top;\n",
       "    }\n",
       "\n",
       "    .dataframe thead th {\n",
       "        text-align: right;\n",
       "    }\n",
       "</style>\n",
       "<table border=\"1\" class=\"dataframe\">\n",
       "  <thead>\n",
       "    <tr style=\"text-align: right;\">\n",
       "      <th></th>\n",
       "      <th>Cluster Labels</th>\n",
       "      <th>Total</th>\n",
       "      <th>Win</th>\n",
       "    </tr>\n",
       "  </thead>\n",
       "  <tbody>\n",
       "    <tr>\n",
       "      <th>0</th>\n",
       "      <td>0</td>\n",
       "      <td>7.269264e+07</td>\n",
       "      <td>0.423077</td>\n",
       "    </tr>\n",
       "    <tr>\n",
       "      <th>1</th>\n",
       "      <td>1</td>\n",
       "      <td>1.555450e+05</td>\n",
       "      <td>0.038462</td>\n",
       "    </tr>\n",
       "    <tr>\n",
       "      <th>2</th>\n",
       "      <td>2</td>\n",
       "      <td>8.699117e+05</td>\n",
       "      <td>0.000000</td>\n",
       "    </tr>\n",
       "  </tbody>\n",
       "</table>\n",
       "</div>"
      ],
      "text/plain": [
       "   Cluster Labels         Total       Win\n",
       "0               0  7.269264e+07  0.423077\n",
       "1               1  1.555450e+05  0.038462\n",
       "2               2  8.699117e+05  0.000000"
      ]
     },
     "execution_count": 123,
     "metadata": {},
     "output_type": "execute_result"
    }
   ],
   "source": [
    "df"
   ]
  }
 ],
 "metadata": {
  "colab": {
   "collapsed_sections": [],
   "name": "kmeans-clustering.ipynb",
   "provenance": []
  },
  "kernelspec": {
   "display_name": "Python 3 (ipykernel)",
   "language": "python",
   "name": "python3"
  },
  "language_info": {
   "codemirror_mode": {
    "name": "ipython",
    "version": 3
   },
   "file_extension": ".py",
   "mimetype": "text/x-python",
   "name": "python",
   "nbconvert_exporter": "python",
   "pygments_lexer": "ipython3",
   "version": "3.9.7"
  }
 },
 "nbformat": 4,
 "nbformat_minor": 1
}
